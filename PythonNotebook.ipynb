{
 "cells": [
  {
   "cell_type": "markdown",
   "metadata": {
    "nbpresent": {
     "id": "a20290f5-2a26-4622-9e8b-ce94cc1dcb1a"
    },
    "slideshow": {
     "slide_type": "slide"
    }
   },
   "source": [
    "\n",
    "# <center>Introduction to Python</center>\n",
    "<p>\n",
    "<center><i>Yale Center for Research Computing</i></center>\n",
    "<p>"
   ]
  },
  {
   "cell_type": "markdown",
   "metadata": {
    "nbpresent": {
     "id": "a8801e71-32d1-4497-876e-4c193189da28"
    },
    "slideshow": {
     "slide_type": "slide"
    }
   },
   "source": [
    "## What is the Yale Center for Research Computing?\n",
    "\n",
    "\n",
    "- Independent center under the Provost's office\n",
    "- Created to support your research computing needs\n",
    "- Focus is on high performance computing and storage\n",
    "- ~20 staff, including applications specialists and system engineers\n",
    "- Available to consult with and educate users\n",
    "- Manage compute clusters and support users\n",
    "- Located at 160 St. Ronan St, at the corner of Edwards and St. Ronan\n",
    "- [ycrc.yale.edu](https://research.computing.yale.edu/)\n",
    "\n"
   ]
  },
  {
   "cell_type": "markdown",
   "metadata": {
    "nbpresent": {
     "id": "494d6527-1db0-4bca-a3a9-ea7d28eed532"
    },
    "slideshow": {
     "slide_type": "slide"
    }
   },
   "source": [
    "## Why Python?\n",
    "- Free, portable, easy to learn\n",
    "- Wildly popular, huge and growing community\n",
    "- Intuitive, natural syntax\n",
    "- Large ecosystem of libraries/packages\n",
    "- Ideal for rapid prototyping but also for large applications\n",
    "- Very efficient to write, reasonably efficient to run as is\n",
    "- Can be very efficient (numpy, cython, ...)\n",
    "- Huge number of packages (modules)\n"
   ]
  },
  {
   "cell_type": "markdown",
   "metadata": {
    "nbpresent": {
     "id": "12ea1d90-4e9e-435e-9531-27bf0426ae6f"
    },
    "slideshow": {
     "slide_type": "slide"
    }
   },
   "source": [
    "## You can use Python to...\n",
    "- Convert or filter files\n",
    "- Automate repetitive tasks\n",
    "- Compute statistics\n",
    "- Build processing pipelines\n",
    "- Build simple web applications\n",
    "- Perform large numerical computations\n",
    "- ...\n",
    "\n",
    "You can use Python instead of bash, Java, or C\n",
    "\n",
    "Python can be run interactively or as a program"
   ]
  },
  {
   "cell_type": "markdown",
   "metadata": {
    "nbpresent": {
     "id": "f8c8a2ab-9b15-45e6-bb89-f37ae176b4f2"
    },
    "slideshow": {
     "slide_type": "slide"
    }
   },
   "source": [
    "## Different ways to run Python\n",
    "\n",
    "1. Create a file using editor, then:\n",
    "\n",
    "   ``` bash\n",
    "   python myscript.py\n",
    "   ```\n",
    "\n",
    "1. Run interpreter interactively\n",
    "\n",
    "   ``` bash\n",
    "   python\n",
    "   ```\n",
    "\n",
    "We recommend Anaconda:\n",
    "- easy to install\n",
    "- easy to add additional packages\n",
    "- allows creation of custom environments\n"
   ]
  },
  {
   "cell_type": "markdown",
   "metadata": {
    "slideshow": {
     "slide_type": "slide"
    }
   },
   "source": [
    "## Follow along using Binder:\n",
    "- https://mybinder.org/v2/gh/ycrc/Python-Bootcamp/master?filepath=PythonNotebook.ipynb\n",
    "\n",
    "or \n",
    "\n",
    "- [`https://tinyurl.com/y9l66yly`](https://tinyurl.com/y9l66yly)"
   ]
  },
  {
   "cell_type": "markdown",
   "metadata": {
    "slideshow": {
     "slide_type": "slide"
    }
   },
   "source": [
    "## Follow along on your computer\n",
    "\n",
    "### Install Anaconda Python (includes Jupyter notebook)\n",
    "\n",
    "1. Go to the [anaconda.com download page](https://www.anaconda.com/distribution/#download-section) and get the python 3.7 x64 version (should be default)\n",
    "1. Install the downloaded file, then in a terminal, run python\n",
    "\n",
    "### Get tutorial files\n",
    "\n",
    "- Run `git clone https://github.com/ycrc/Python-Bootcamp.git`\n",
    "- Or download the repo as an archive: https://github.com/ycrc/Python-Bootcamp/archive/master.zip\n",
    "\n",
    "### Run the Jupyter notebook\n",
    "\n",
    "1. In a terminal: \n",
    "\n",
    "``` bash\n",
    "cd path/to/Python-Bootcamp\n",
    "```\n",
    "\n",
    "2. Start the notebook:\n",
    "\n",
    "``` bash\n",
    "jupyter notebook PythonNotebook.ipynb\n",
    "```\n",
    "\n",
    "To run the presentation\n",
    "\n",
    "```\n",
    "jupyter nbconvert PythonNotebook.ipynb --to slides --post serve\n",
    "```"
   ]
  },
  {
   "cell_type": "markdown",
   "metadata": {
    "nbpresent": {
     "id": "1ebb4259-2081-4ec5-af7b-c14dedde0872"
    },
    "slideshow": {
     "slide_type": "slide"
    }
   },
   "source": [
    "## Python 2 versus 3\n",
    "\n",
    "- Python 2 no longer supported, but some old projects have not migrated\n",
    "- At first glance major difference is `print`, string handling\n",
    "- Any new code should be Python 3"
   ]
  },
  {
   "cell_type": "markdown",
   "metadata": {
    "nbpresent": {
     "id": "e675a434-eb22-4d12-a159-d6464ec9d916"
    },
    "slideshow": {
     "slide_type": "slide"
    }
   },
   "source": [
    "## Basic Python types: _integers, floats, strings, booleans_\n",
    "\n",
    "The building blocks"
   ]
  },
  {
   "cell_type": "code",
   "execution_count": 1,
   "metadata": {
    "slideshow": {
     "slide_type": "fragment"
    }
   },
   "outputs": [
    {
     "name": "stdout",
     "output_type": "stream",
     "text": [
      "2.5\n"
     ]
    }
   ],
   "source": [
    "radius = 2\n",
    "pi = 3.14\n",
    "diam = radius * 2\n",
    "area = pi * (radius ** 2)\n",
    "title = \"fun with strings\"\n",
    "pi = 'cherry'\n",
    "radius = 2.5\n",
    "delicious = True\n",
    "print(radius)"
   ]
  },
  {
   "cell_type": "markdown",
   "metadata": {
    "nbpresent": {
     "id": "cf3cb8c6-45f0-48de-b171-598ebf92904f"
    },
    "slideshow": {
     "slide_type": "fragment"
    }
   },
   "source": [
    "\n",
    "- Variables do not need to be declared or typed\n",
    "- Integers and floating points can be used together\n",
    "- The same variable can hold different types\n"
   ]
  },
  {
   "cell_type": "markdown",
   "metadata": {
    "nbpresent": {
     "id": "a304d336-0970-4929-b6ed-13c646c59725"
    },
    "slideshow": {
     "slide_type": "slide"
    }
   },
   "source": [
    "### _strings_ ...\n",
    "\n",
    "- are defined with `'` or `\"`\n",
    "- cannot be modified\n",
    "- have lots of useful methods, e.g. `strip`, `split`, etc\n"
   ]
  },
  {
   "cell_type": "code",
   "execution_count": 2,
   "metadata": {
    "nbpresent": {
     "id": "4765d0a2-2a8a-497a-b969-9d6b80486aec"
    },
    "slideshow": {
     "slide_type": "fragment"
    }
   },
   "outputs": [
    {
     "data": {
      "text/plain": [
       "'Some String'"
      ]
     },
     "execution_count": 2,
     "metadata": {},
     "output_type": "execute_result"
    }
   ],
   "source": [
    "s = 'Some String'\n",
    "s"
   ]
  },
  {
   "cell_type": "code",
   "execution_count": 3,
   "metadata": {
    "nbpresent": {
     "id": "41936fb6-e55b-4679-9285-f603d2fe9732"
    },
    "slideshow": {
     "slide_type": "fragment"
    }
   },
   "outputs": [
    {
     "data": {
      "text/plain": [
       "['he', '', 'o']"
      ]
     },
     "execution_count": 3,
     "metadata": {},
     "output_type": "execute_result"
    }
   ],
   "source": [
    "s = \"hello\"\n",
    "s.split('l')"
   ]
  },
  {
   "cell_type": "markdown",
   "metadata": {
    "nbpresent": {
     "id": "01c5e397-ce22-4e60-bece-26892ff66c77"
    },
    "slideshow": {
     "slide_type": "slide"
    }
   },
   "source": [
    "## Data structures: _lists_\n",
    "\n",
    "Like arrays in other languages.  \n",
    "\n"
   ]
  },
  {
   "cell_type": "code",
   "execution_count": 4,
   "metadata": {
    "nbpresent": {
     "id": "32dcb56e-4dae-4bef-821a-48f9334a6f3d"
    },
    "slideshow": {
     "slide_type": "fragment"
    }
   },
   "outputs": [],
   "source": [
    "numbers = [1, 2, 3, 4, 5, 6, 7, 8, 9]"
   ]
  },
  {
   "cell_type": "code",
   "execution_count": null,
   "metadata": {
    "nbpresent": {
     "id": "8dc3a7fd-a5ce-41f2-b336-c9df5e112dfd"
    },
    "slideshow": {
     "slide_type": "fragment"
    }
   },
   "outputs": [],
   "source": [
    "numbers[3]"
   ]
  },
  {
   "cell_type": "code",
   "execution_count": null,
   "metadata": {
    "nbpresent": {
     "id": "fb27453f-b80c-48e1-96d6-d77ec61835cd"
    },
    "slideshow": {
     "slide_type": "fragment"
    }
   },
   "outputs": [],
   "source": [
    "numbers[5:7]"
   ]
  },
  {
   "cell_type": "code",
   "execution_count": null,
   "metadata": {
    "slideshow": {
     "slide_type": "fragment"
    }
   },
   "outputs": [],
   "source": [
    "numbers[1:6:2]"
   ]
  },
  {
   "cell_type": "code",
   "execution_count": 5,
   "metadata": {
    "nbpresent": {
     "id": "6fc8d55d-6c8e-4b5b-ac6f-dc4da49e5dc1"
    },
    "slideshow": {
     "slide_type": "fragment"
    }
   },
   "outputs": [
    {
     "data": {
      "text/plain": [
       "[1, 2, 3.14, 4, 5, 6, 7, 8, 9]"
      ]
     },
     "execution_count": 5,
     "metadata": {},
     "output_type": "execute_result"
    }
   ],
   "source": [
    "numbers[2] = 3.14\n",
    "numbers"
   ]
  },
  {
   "cell_type": "code",
   "execution_count": 6,
   "metadata": {
    "nbpresent": {
     "id": "4f14437f-6521-4091-bea7-e3c7a4506478"
    },
    "slideshow": {
     "slide_type": "fragment"
    }
   },
   "outputs": [
    {
     "data": {
      "text/plain": [
       "[9, 8, 7, 6, 5, 4, 3.14, 2, 1]"
      ]
     },
     "execution_count": 6,
     "metadata": {},
     "output_type": "execute_result"
    }
   ],
   "source": [
    "numbers.reverse()\n",
    "numbers"
   ]
  },
  {
   "cell_type": "markdown",
   "metadata": {
    "nbpresent": {
     "id": "a4ee966d-3b8a-4abb-919f-8430acedf470"
    },
    "slideshow": {
     "slide_type": "slide"
    }
   },
   "source": [
    "## Lists are more flexible than arrays\n",
    "\n",
    "You can ...\n",
    "\n",
    "- insert or append new elements\n",
    "- remove elements\n",
    "- nest lists\n",
    "- combine values of different types into lists\n"
   ]
  },
  {
   "cell_type": "code",
   "execution_count": 7,
   "metadata": {
    "nbpresent": {
     "id": "b4655176-1398-4987-8ff0-6f46bd24c9e9"
    },
    "slideshow": {
     "slide_type": "fragment"
    }
   },
   "outputs": [
    {
     "data": {
      "text/plain": [
       "11"
      ]
     },
     "execution_count": 7,
     "metadata": {},
     "output_type": "execute_result"
    }
   ],
   "source": [
    "numbers = [1, 2, 3, 4, 5, 6, 7, 8, 9]\n",
    "numbers[2] = [11, 12, 13]\n",
    "numbers[2][0]"
   ]
  },
  {
   "cell_type": "code",
   "execution_count": 8,
   "metadata": {
    "nbpresent": {
     "id": "378a93fb-d87e-46da-80c4-ac69fd10baaf"
    },
    "slideshow": {
     "slide_type": "fragment"
    }
   },
   "outputs": [
    {
     "data": {
      "text/plain": [
       "[1, 2, [11, 12, 13], 'four to six', 7, 8, 9]"
      ]
     },
     "execution_count": 8,
     "metadata": {},
     "output_type": "execute_result"
    }
   ],
   "source": [
    "numbers[3:6] = ['four to six']\n",
    "numbers"
   ]
  },
  {
   "cell_type": "markdown",
   "metadata": {
    "nbpresent": {
     "id": "82714e0c-2a74-45d8-b7cc-99a09924f080"
    },
    "slideshow": {
     "slide_type": "slide"
    }
   },
   "source": [
    "## Data structures: _tuples_\n",
    "\n",
    "Like lists, but not modifiable"
   ]
  },
  {
   "cell_type": "code",
   "execution_count": null,
   "metadata": {
    "nbpresent": {
     "id": "e772b731-9081-4946-92c9-992f9c176d99"
    },
    "slideshow": {
     "slide_type": "fragment"
    }
   },
   "outputs": [],
   "source": [
    "tup=(1,2,3,4,5,6,7,8,9)\n",
    "tup"
   ]
  },
  {
   "cell_type": "code",
   "execution_count": null,
   "metadata": {
    "nbpresent": {
     "id": "3797ae0a-3333-4e11-b5f8-89569c0d37ba"
    },
    "slideshow": {
     "slide_type": "fragment"
    }
   },
   "outputs": [],
   "source": [
    "tup[4:6]"
   ]
  },
  {
   "cell_type": "markdown",
   "metadata": {
    "nbpresent": {
     "id": "f4c0903e-8146-4f12-9b0f-f09553cabfaa"
    },
    "slideshow": {
     "slide_type": "slide"
    }
   },
   "source": [
    "## Data structures: _dictionaries_\n",
    "\n",
    "Dicts are what python calls \"hash tables\"\n",
    "\n",
    "- dicts associate keys with values, which can be of (almost) any type\n",
    "- dicts have length, but are not ordered until 3.6\n",
    "- looking up values in dicts is very fast, even if the dict is BIG.\n",
    "\n"
   ]
  },
  {
   "cell_type": "code",
   "execution_count": null,
   "metadata": {
    "nbpresent": {
     "id": "812f1017-5af8-477d-9f6f-ded5379ca997"
    },
    "slideshow": {
     "slide_type": "fragment"
    }
   },
   "outputs": [],
   "source": [
    "coins={'penny':1, 'nickle':5, 'dime':10, 'quarter':25}\n",
    "coins"
   ]
  },
  {
   "cell_type": "code",
   "execution_count": null,
   "metadata": {
    "nbpresent": {
     "id": "cbe769ce-ad16-4805-afe1-fd8aaba865c1"
    },
    "slideshow": {
     "slide_type": "fragment"
    }
   },
   "outputs": [],
   "source": [
    "coins['dime']"
   ]
  },
  {
   "cell_type": "code",
   "execution_count": null,
   "metadata": {},
   "outputs": [],
   "source": [
    "coins['half-dollar'] = 50\n",
    "coins"
   ]
  },
  {
   "cell_type": "markdown",
   "metadata": {
    "nbpresent": {
     "id": "138e7c96-d712-484e-8e82-5b21a548b0af"
    },
    "slideshow": {
     "slide_type": "slide"
    }
   },
   "source": [
    "## Control Flow Statements: _if_\n",
    "\n",
    "- `if` statements run a test, then do something based on the result\n",
    "- `else` is optional\n",
    "\n",
    "\n",
    "\n"
   ]
  },
  {
   "cell_type": "code",
   "execution_count": 9,
   "metadata": {
    "nbpresent": {
     "id": "8b9c7e6e-3770-4bec-ab1d-4219b015f840"
    },
    "slideshow": {
     "slide_type": "fragment"
    }
   },
   "outputs": [
    {
     "name": "stdout",
     "output_type": "stream",
     "text": [
      "small 7\n",
      "another line\n",
      "after else\n"
     ]
    }
   ],
   "source": [
    "import random\n",
    "number = random.randint(0,100)\n",
    "if number < 50:\n",
    "    print(\"small\", number)\n",
    "    print(\"another line\")\n",
    "else:\n",
    "    print(\"big\", number)  \n",
    "print(\"after else\")"
   ]
  },
  {
   "cell_type": "markdown",
   "metadata": {
    "nbpresent": {
     "id": "9e1755ac-fc3a-470f-ad85-81383bcc5548"
    },
    "slideshow": {
     "slide_type": "slide"
    }
   },
   "source": [
    "## Control Flow Statements: _while_\n",
    "\n",
    "- While statements execute one or more statements repeatedly until the\n",
    "test is false"
   ]
  },
  {
   "cell_type": "code",
   "execution_count": 10,
   "metadata": {
    "nbpresent": {
     "id": "1209ed01-100c-4249-9790-7ceaf4b8d25f"
    },
    "slideshow": {
     "slide_type": "fragment"
    }
   },
   "outputs": [
    {
     "name": "stdout",
     "output_type": "stream",
     "text": [
      "0\n",
      "4\n",
      "6\n",
      "7\n",
      "7\n",
      "15\n",
      "20\n",
      "26\n",
      "36\n",
      "41\n",
      "49\n",
      "53\n",
      "56\n",
      "56\n",
      "62\n",
      "63\n",
      "69\n",
      "74\n",
      "84\n",
      "88\n",
      "96\n",
      "104\n",
      "done with loop\n"
     ]
    }
   ],
   "source": [
    "import random\n",
    "\n",
    "count = 0\n",
    "while count < 100:\n",
    "   count = count + random.randint(0,10)\n",
    "   print(count)\n",
    "print(\"done with loop\")\n"
   ]
  },
  {
   "cell_type": "markdown",
   "metadata": {
    "nbpresent": {
     "id": "15c9bfc0-08a7-43e4-bfcc-fcd6ce5810ad"
    },
    "slideshow": {
     "slide_type": "slide"
    }
   },
   "source": [
    "## Control Flow Statements: _for_\n",
    "\n",
    "For statements take some sort of iterable object and loop once for\n",
    "every value."
   ]
  },
  {
   "cell_type": "code",
   "execution_count": null,
   "metadata": {
    "nbpresent": {
     "id": "3289621e-dc24-4f9a-a9ca-c4ed005fb5e7"
    },
    "slideshow": {
     "slide_type": "fragment"
    }
   },
   "outputs": [],
   "source": [
    "for letter in \"this string\":\n",
    "   print(letter)"
   ]
  },
  {
   "cell_type": "code",
   "execution_count": null,
   "metadata": {
    "nbpresent": {
     "id": "2e40b847-7de3-426b-93e2-66fa8507cb37"
    },
    "slideshow": {
     "slide_type": "fragment"
    }
   },
   "outputs": [],
   "source": [
    "for i in range(10):\n",
    "   print(i)"
   ]
  },
  {
   "cell_type": "markdown",
   "metadata": {
    "collapsed": true,
    "nbpresent": {
     "id": "d4bddfab-61ba-4fb3-91d3-69bc8065c1f5"
    },
    "slideshow": {
     "slide_type": "slide"
    }
   },
   "source": [
    "## Using `for` loops and `dicts`\n",
    "\n",
    "Do something for each key (Use `items()` for keys and values)"
   ]
  },
  {
   "cell_type": "code",
   "execution_count": 11,
   "metadata": {
    "nbpresent": {
     "id": "0601b993-3329-4700-a4c1-36e64b485275"
    },
    "slideshow": {
     "slide_type": "fragment"
    }
   },
   "outputs": [
    {
     "ename": "NameError",
     "evalue": "name 'coins' is not defined",
     "output_type": "error",
     "traceback": [
      "\u001b[1;31m---------------------------------------------------------------------------\u001b[0m",
      "\u001b[1;31mNameError\u001b[0m                                 Traceback (most recent call last)",
      "\u001b[1;32m<ipython-input-11-c43d8a8a38b9>\u001b[0m in \u001b[0;36m<module>\u001b[1;34m\u001b[0m\n\u001b[1;32m----> 1\u001b[1;33m \u001b[1;32mfor\u001b[0m \u001b[0mdenom\u001b[0m \u001b[1;32min\u001b[0m \u001b[0mcoins\u001b[0m\u001b[1;33m:\u001b[0m\u001b[1;33m\u001b[0m\u001b[1;33m\u001b[0m\u001b[0m\n\u001b[0m\u001b[0;32m      2\u001b[0m    \u001b[0mprint\u001b[0m\u001b[1;33m(\u001b[0m\u001b[0mcoins\u001b[0m\u001b[1;33m[\u001b[0m\u001b[0mdenom\u001b[0m\u001b[1;33m]\u001b[0m\u001b[1;33m)\u001b[0m\u001b[1;33m\u001b[0m\u001b[1;33m\u001b[0m\u001b[0m\n",
      "\u001b[1;31mNameError\u001b[0m: name 'coins' is not defined"
     ]
    }
   ],
   "source": [
    "for denom in coins:  \n",
    "   print(coins[denom])\n"
   ]
  },
  {
   "cell_type": "markdown",
   "metadata": {
    "nbpresent": {
     "id": "568d1355-af0f-4d7c-8a72-d8eb8e6a3480"
    },
    "slideshow": {
     "slide_type": "slide"
    }
   },
   "source": [
    "## Control Flow Statements: altering loops\n",
    "While and For loops can skip steps (`continue`) or terminate early (`break`)."
   ]
  },
  {
   "cell_type": "code",
   "execution_count": 13,
   "metadata": {
    "nbpresent": {
     "id": "aedb70f1-1599-42f5-9ea7-25177e656040"
    },
    "slideshow": {
     "slide_type": "fragment"
    }
   },
   "outputs": [
    {
     "name": "stdout",
     "output_type": "stream",
     "text": [
      "0\n",
      "2\n",
      "4\n",
      "6\n",
      "8\n"
     ]
    }
   ],
   "source": [
    "for i in range(10):\n",
    "    if i % 2 != 0:\n",
    "        continue\n",
    "    print(i)"
   ]
  },
  {
   "cell_type": "code",
   "execution_count": 14,
   "metadata": {
    "nbpresent": {
     "id": "1ad39692-d322-4b4b-8b41-d7705e3ff75c"
    },
    "slideshow": {
     "slide_type": "fragment"
    }
   },
   "outputs": [
    {
     "name": "stdout",
     "output_type": "stream",
     "text": [
      "0\n",
      "1\n",
      "2\n",
      "3\n",
      "4\n",
      "5\n"
     ]
    }
   ],
   "source": [
    "for i in range(10):\n",
    "    if i > 5:\n",
    "        break\n",
    "    print(i)"
   ]
  },
  {
   "cell_type": "markdown",
   "metadata": {
    "nbpresent": {
     "id": "81547778-1b73-4649-90a9-c0b3dc386014"
    },
    "slideshow": {
     "slide_type": "slide"
    }
   },
   "source": [
    "## Note on code blocks\n",
    "\n",
    "In the previous example:\n"
   ]
  },
  {
   "cell_type": "code",
   "execution_count": 15,
   "metadata": {
    "nbpresent": {
     "id": "53639b58-c255-4deb-9d31-1db8a85ef2e8"
    },
    "slideshow": {
     "slide_type": "fragment"
    }
   },
   "outputs": [
    {
     "name": "stdout",
     "output_type": "stream",
     "text": [
      "0\n",
      "1\n",
      "2\n",
      "3\n",
      "4\n",
      "5\n"
     ]
    }
   ],
   "source": [
    "for i in range(10):\n",
    "    if i > 5:\n",
    "        break\n",
    "    print(i)"
   ]
  },
  {
   "cell_type": "markdown",
   "metadata": {
    "nbpresent": {
     "id": "1708f57b-4d71-4035-897b-8d4245fce9a5"
    },
    "slideshow": {
     "slide_type": "fragment"
    }
   },
   "source": [
    "How did we know that `print(i)` was part of the loop?  What defines a loop?\n",
    "\n",
    "- Many programming languages use `{ }` or Begin End to delineate blocks of code to treat as a single unit.\n",
    "\n",
    "- Python uses white space.  Code indented to the same level is one block.\n",
    "\n",
    "- By convention and for readability, indent a consistent number usually 4 spaces (many editors will do this for you)."
   ]
  },
  {
   "cell_type": "markdown",
   "metadata": {
    "slideshow": {
     "slide_type": "slide"
    }
   },
   "source": [
    "## List comprehensions\n",
    "\n",
    "can replace simple loops, are fast and concise"
   ]
  },
  {
   "cell_type": "code",
   "execution_count": 16,
   "metadata": {
    "slideshow": {
     "slide_type": "fragment"
    }
   },
   "outputs": [],
   "source": [
    "numbers = [1, 2, 3, 4, 5, 6, 7, 8, 9]\n",
    "new_numbers = []\n",
    "for number in numbers:\n",
    "    new_numbers.append(number * 5)"
   ]
  },
  {
   "cell_type": "code",
   "execution_count": 17,
   "metadata": {
    "slideshow": {
     "slide_type": "fragment"
    }
   },
   "outputs": [],
   "source": [
    "numbers = [1, 2, 3, 4, 5, 6, 7, 8, 9]\n",
    "new_numbers = [number * 5 for number in numbers]"
   ]
  },
  {
   "cell_type": "markdown",
   "metadata": {
    "nbpresent": {
     "id": "69d16429-24ce-4d40-885c-8847d95c18b0"
    },
    "slideshow": {
     "slide_type": "slide"
    }
   },
   "source": [
    "## Functions\n",
    "\n",
    "allow you to write code once and use it many times\n",
    "\n",
    "compartmentalize detail so code is more understandable\n"
   ]
  },
  {
   "cell_type": "code",
   "execution_count": 18,
   "metadata": {
    "nbpresent": {
     "id": "52ea5585-d6b7-4f6d-b565-23d11b1c819a"
    },
    "slideshow": {
     "slide_type": "fragment"
    }
   },
   "outputs": [
    {
     "data": {
      "text/plain": [
       "30"
      ]
     },
     "execution_count": 18,
     "metadata": {},
     "output_type": "execute_result"
    }
   ],
   "source": [
    "def area(w, h):\n",
    "   return w * h\n",
    "\n",
    "area(3, 10) "
   ]
  },
  {
   "cell_type": "markdown",
   "metadata": {
    "nbpresent": {
     "id": "b1618f18-c6fc-4d71-b0dd-af66de188f3e"
    },
    "slideshow": {
     "slide_type": "slide"
    }
   },
   "source": [
    "## Summary of basic elements of Python\n",
    "\n",
    "- Basics: int, float, string, boolean\n",
    "- More complex: list, dict, tuple\n",
    "- Control constructs: if, while, for, list comprehension, def\n"
   ]
  },
  {
   "cell_type": "markdown",
   "metadata": {
    "slideshow": {
     "slide_type": "slide"
    }
   },
   "source": [
    "## Printing & Formatting\n"
   ]
  },
  {
   "cell_type": "code",
   "execution_count": null,
   "metadata": {
    "slideshow": {
     "slide_type": "fragment"
    }
   },
   "outputs": [],
   "source": [
    "print(\"Simple\")"
   ]
  },
  {
   "cell_type": "code",
   "execution_count": 19,
   "metadata": {
    "slideshow": {
     "slide_type": "fragment"
    }
   },
   "outputs": [
    {
     "name": "stdout",
     "output_type": "stream",
     "text": [
      "The sqrt of 16 is 4.000000\n",
      "The sqrt of 16 is 4.0\n",
      "4 squared is 16\n",
      "The sqrt of 16 is 4.00\n"
     ]
    }
   ],
   "source": [
    "import math\n",
    "x = 16\n",
    "\n",
    "# old-school way\n",
    "print(\"The sqrt of %i is %f\" % (x, math.sqrt(x)))\n",
    "\n",
    "# format function\n",
    "print(\"The sqrt of {} is {}\".format(x, math.sqrt(x)))\n",
    "print(\"{1:.0f} squared is {0}\". format(x, math.sqrt(x)))\n",
    "\n",
    "# f-strings (3.6+)\n",
    "print(f\"The sqrt of {x} is {math.sqrt(x):.2f}\")"
   ]
  },
  {
   "cell_type": "markdown",
   "metadata": {
    "nbpresent": {
     "id": "ad7a2c1e-02a0-4b73-b35e-9beb2ae0c863"
    },
    "slideshow": {
     "slide_type": "slide"
    }
   },
   "source": [
    "## Objects\n",
    "\n",
    "- All python values are objects (lists, strings, dicts, etc.)\n",
    "- Objects combine value(s) and methods (functions)\n",
    "- Advanced users can create their own classes of objects\n",
    "- All the usual OO stuff: inheritance, data hiding, etc.\n",
    "- Use `dir()` to discover an object's methods & attributes\n"
   ]
  },
  {
   "cell_type": "code",
   "execution_count": 20,
   "metadata": {
    "nbpresent": {
     "id": "89c2153d-7867-4fc5-be84-756c5b5f6266"
    },
    "slideshow": {
     "slide_type": "fragment"
    }
   },
   "outputs": [
    {
     "data": {
      "text/plain": [
       "[]"
      ]
     },
     "execution_count": 20,
     "metadata": {},
     "output_type": "execute_result"
    }
   ],
   "source": [
    "numbers = [1, 2, 3]\n",
    "numbers.clear()\n",
    "numbers"
   ]
  },
  {
   "cell_type": "code",
   "execution_count": 21,
   "metadata": {
    "nbpresent": {
     "id": "eee8e363-d77a-47c9-aec3-3b9d74813686"
    },
    "slideshow": {
     "slide_type": "fragment"
    }
   },
   "outputs": [
    {
     "name": "stdout",
     "output_type": "stream",
     "text": [
      "('Th', 'i', 's is a String')\n",
      "['Thi', ' i', ' a String']\n"
     ]
    }
   ],
   "source": [
    "# try: index, upper, isupper, startswith, replace\n",
    "s=\"This is a String\"\n",
    "print(s.partition(\"i\"))\n",
    "print(s.split(\"s\"))"
   ]
  },
  {
   "cell_type": "code",
   "execution_count": null,
   "metadata": {
    "nbpresent": {
     "id": "df32239b-8fce-4f9a-8556-0712e98e6e49"
    },
    "slideshow": {
     "slide_type": "fragment"
    }
   },
   "outputs": [],
   "source": [
    "dir(s) "
   ]
  },
  {
   "cell_type": "markdown",
   "metadata": {
    "nbpresent": {
     "id": "efc2efdd-8beb-49d3-8905-1f73fecb687d"
    },
    "slideshow": {
     "slide_type": "slide"
    }
   },
   "source": [
    "## Example 1: File Reformatter\n",
    "\n",
    "#### Task: given a file of hundreds or thousands of lines\n",
    "\n",
    "```\n",
    "FCID,Lane,Sample_ID,SampleRef,index,Description,Control,Recipe,...\n",
    "160212,1,A1,human,TAAGGCGA-TAGATCGC,None,N,Eland-rna,Mei,Jon_mix10\n",
    "160212,1,A2,human,CGTACTAG-CTCTCTAT,None,N,Eland-rna,Mei,Jon_mix10\n",
    "160212,1,A3,human,AGGCAGAA-TATCCTCT,None,N,Eland-rna,Mei,Jon_mix10\n",
    "...\n",
    "```\n",
    "\n",
    "#### Remove the last 3 letters from the 5th column\n",
    "\n",
    "```\n",
    "FCID,Lane,Sample_ID,SampleRef,index,Description,Control,Recipe,...\n",
    "160212,1,A1,human,TAAGGCGA-TAGAT,None,N,Eland-rna,Mei,Jon_mix10\n",
    "160212,1,A2,human,CGTACTAG-CTCTC,None,N,Eland-rna,Mei,Jon_mix10\n",
    "160212,1,A3,human,AGGCAGAA-TATCC,None,N,Eland-rna,Mei,Jon_mix10\n",
    "...\n",
    "```\n",
    "\n",
    "`TAAGGCGA-TAGATCGC` -> `TAAGGCGA-TAGAT` and so on\n",
    "\n",
    "In this example, we'll show:\n",
    "- reading lines of a file\n",
    "- parsing and modifying the lines\n",
    "- writing them back out\n",
    "- creating a script to do the above and running it\n",
    "- passing the script the file to modify"
   ]
  },
  {
   "cell_type": "markdown",
   "metadata": {
    "nbpresent": {
     "id": "18c0ff90-5bef-4435-996a-1a015a4ced49"
    },
    "slideshow": {
     "slide_type": "slide"
    }
   },
   "source": [
    "## In pseudocode \n",
    "```\n",
    " open the input file\n",
    " read the first header line, and print it out\n",
    " for each remaining line in the file\n",
    "   read the line\n",
    "   find the value in the 5th column\n",
    "   truncate it by removing the last three letters\n",
    "   put the line back together\n",
    "   print it out\n",
    "```\n",
    "\n"
   ]
  },
  {
   "cell_type": "markdown",
   "metadata": {
    "nbpresent": {
     "id": "4b900509-1a2e-493a-b91d-6f7733b2eb5c"
    },
    "slideshow": {
     "slide_type": "slide"
    }
   },
   "source": [
    "## Step 1: open the input file"
   ]
  },
  {
   "cell_type": "code",
   "execution_count": 22,
   "metadata": {
    "nbpresent": {
     "id": "9df59d49-02d8-4108-b063-d58b0f01bbf5"
    },
    "slideshow": {
     "slide_type": "fragment"
    }
   },
   "outputs": [],
   "source": [
    "file_pointer = open('badfile.txt')"
   ]
  },
  {
   "cell_type": "code",
   "execution_count": 23,
   "metadata": {
    "nbpresent": {
     "id": "4fea7e01-5e99-486d-b238-6275ff3659ce"
    }
   },
   "outputs": [
    {
     "data": {
      "text/plain": [
       "<_io.TextIOWrapper name='badfile.txt' mode='r' encoding='cp1252'>"
      ]
     },
     "execution_count": 23,
     "metadata": {},
     "output_type": "execute_result"
    }
   ],
   "source": [
    "file_pointer"
   ]
  },
  {
   "cell_type": "markdown",
   "metadata": {
    "nbpresent": {
     "id": "e67dde7c-a815-4650-a5db-c68087ea73a4"
    },
    "slideshow": {
     "slide_type": "fragment"
    }
   },
   "source": [
    "`open()` takes a filename, and returns a file pointer\n",
    "\n",
    "Use that to read from the file"
   ]
  },
  {
   "cell_type": "markdown",
   "metadata": {
    "nbpresent": {
     "id": "684785a7-608d-4eae-968d-75d8daebdaed"
    },
    "slideshow": {
     "slide_type": "slide"
    }
   },
   "source": [
    "## Step 2: read the first header line, and print it out"
   ]
  },
  {
   "cell_type": "code",
   "execution_count": 24,
   "metadata": {
    "nbpresent": {
     "id": "778bfab0-219a-4ebd-8d36-57f0e55d7641"
    },
    "slideshow": {
     "slide_type": "fragment"
    }
   },
   "outputs": [
    {
     "name": "stdout",
     "output_type": "stream",
     "text": [
      "FCID,Lane,Sample_ID,SampleRef,index,Description,Control,Recipe,Operator,Project\n"
     ]
    }
   ],
   "source": [
    "file_pointer = open('badfile.txt')\n",
    "print (file_pointer.readline().rstrip())\n"
   ]
  },
  {
   "cell_type": "markdown",
   "metadata": {
    "nbpresent": {
     "id": "2d8dd505-f5bf-4b59-ba48-b4a2d6cd5f57"
    },
    "slideshow": {
     "slide_type": "fragment"
    }
   },
   "source": [
    "- Call `readline()` on the file pointer to get a single line from the file\n",
    "(the header line)\n",
    "\n",
    "- `rstrip()` removes the return character at the end of the line\n",
    "\n",
    "- Then print it"
   ]
  },
  {
   "cell_type": "markdown",
   "metadata": {
    "nbpresent": {
     "id": "3f85fedf-db72-44af-b673-e3d1b66c67ad"
    },
    "slideshow": {
     "slide_type": "slide"
    }
   },
   "source": [
    "## Step 3: for each remaining line in the file, read the line"
   ]
  },
  {
   "cell_type": "code",
   "execution_count": 25,
   "metadata": {
    "nbpresent": {
     "id": "19f8b102-3960-4f9a-af07-efda4fd07d88"
    },
    "slideshow": {
     "slide_type": "fragment"
    }
   },
   "outputs": [
    {
     "name": "stdout",
     "output_type": "stream",
     "text": [
      "FCID,Lane,Sample_ID,SampleRef,index,Description,Control,Recipe,Operator,Project\n",
      "160212,1,A1,human,TAAGGCGA-TAGATCGC,None,N,Eland-rna,Mei,Jon_mix10\n",
      "\n",
      "160212,1,A2,human,CGTACTAG-CTCTCTAT,None,N,Eland-rna,Mei,Jon_mix10\n",
      "\n",
      "160212,1,A3,human,AGGCAGAA-TATCCTCT,None,N,Eland-rna,Mei,Jon_mix10\n",
      "\n",
      "160212,1,A4,human,TCCTGAGC-AGAGTAGA,None,N,Eland-rna,Mei,Jon_mix10\n",
      "\n"
     ]
    }
   ],
   "source": [
    "file_pointer = open('badfile.txt')\n",
    "print(file_pointer.readline().rstrip())\n",
    "for line in file_pointer:\n",
    "    print(line)"
   ]
  },
  {
   "cell_type": "markdown",
   "metadata": {
    "nbpresent": {
     "id": "cb0419a7-7c7d-4e8a-88c2-72bbbdcddc2f"
    },
    "slideshow": {
     "slide_type": "fragment"
    }
   },
   "source": [
    "A file pointer is an example of an iterator.\n",
    "\n",
    "Instead of explicitly calling `readline()` for each line, we can just loop on the file\n",
    "pointer, getting one line each time.\n",
    "\n",
    "Since we already read the header, we won't get that line."
   ]
  },
  {
   "cell_type": "markdown",
   "metadata": {
    "nbpresent": {
     "id": "18f07bd0-4807-400f-b98b-6da00a29a45d"
    },
    "slideshow": {
     "slide_type": "slide"
    }
   },
   "source": [
    "## Step 4: find the value in the 5th column, and remove last 3 letters\n"
   ]
  },
  {
   "cell_type": "code",
   "execution_count": 26,
   "metadata": {
    "nbpresent": {
     "id": "d0c99a58-e78f-40c6-a2f9-356ba462abb3"
    },
    "slideshow": {
     "slide_type": "fragment"
    }
   },
   "outputs": [
    {
     "name": "stdout",
     "output_type": "stream",
     "text": [
      "FCID,Lane,Sample_ID,SampleRef,index,Description,Control,Recipe,Operator,Project\n",
      "['160212', '1', 'A1', 'human', 'TAAGGCGA-TAGAT', 'None', 'N', 'Eland-rna', 'Mei', 'Jon_mix10']\n",
      "['160212', '1', 'A2', 'human', 'CGTACTAG-CTCTC', 'None', 'N', 'Eland-rna', 'Mei', 'Jon_mix10']\n",
      "['160212', '1', 'A3', 'human', 'AGGCAGAA-TATCC', 'None', 'N', 'Eland-rna', 'Mei', 'Jon_mix10']\n",
      "['160212', '1', 'A4', 'human', 'TCCTGAGC-AGAGT', 'None', 'N', 'Eland-rna', 'Mei', 'Jon_mix10']\n"
     ]
    }
   ],
   "source": [
    "file_pointer = open('badfile.txt')\n",
    "print(file_pointer.readline().strip())  \n",
    "for line in file_pointer:\n",
    "    fields = line.strip().split(',')\n",
    "    fields[4] = fields[4][:-3]\n",
    "    print(fields)"
   ]
  },
  {
   "cell_type": "markdown",
   "metadata": {
    "nbpresent": {
     "id": "798ae994-7b95-4d34-95db-fde9158ff3ba"
    },
    "slideshow": {
     "slide_type": "fragment"
    }
   },
   "source": [
    "Like before, we strip the return from the line.\n",
    "\n",
    "We split it into\n",
    "individual elements where we find commas.\n",
    "\n",
    "The 5th field is referenced by\n",
    "flds[4], since python starts indexing with 0.  [:-3] takes all characters\n",
    "of the string until the last 3."
   ]
  },
  {
   "cell_type": "markdown",
   "metadata": {
    "nbpresent": {
     "id": "36640e7d-fdbc-4c4c-abc6-fbbd71a87d45"
    },
    "slideshow": {
     "slide_type": "slide"
    }
   },
   "source": [
    "## Step 5: put the line back together, and print it"
   ]
  },
  {
   "cell_type": "code",
   "execution_count": 27,
   "metadata": {
    "nbpresent": {
     "id": "1b380c2b-de9d-4045-a7c8-efb7c1d047b7"
    },
    "slideshow": {
     "slide_type": "fragment"
    }
   },
   "outputs": [
    {
     "name": "stdout",
     "output_type": "stream",
     "text": [
      "FCID,Lane,Sample_ID,SampleRef,index,Description,Control,Recipe,Operator,Project\n",
      "160212,1,A1,human,TAAGGCGA-TAGAT,None,N,Eland-rna,Mei,Jon_mix10\n",
      "160212,1,A2,human,CGTACTAG-CTCTC,None,N,Eland-rna,Mei,Jon_mix10\n",
      "160212,1,A3,human,AGGCAGAA-TATCC,None,N,Eland-rna,Mei,Jon_mix10\n",
      "160212,1,A4,human,TCCTGAGC-AGAGT,None,N,Eland-rna,Mei,Jon_mix10\n"
     ]
    }
   ],
   "source": [
    "file_pointer = open(\"badfile.txt\")\n",
    "print(file_pointer.readline().strip())\n",
    "for line in file_pointer:\n",
    "    fields = line.strip().split(',')\n",
    "    fields[4] = fields[4][:-3]\n",
    "    print(','.join(fields))"
   ]
  },
  {
   "cell_type": "markdown",
   "metadata": {
    "nbpresent": {
     "id": "065395a1-8d57-470c-bd53-0bfa04850206"
    },
    "slideshow": {
     "slide_type": "fragment"
    }
   },
   "source": [
    " \n",
    "Join takes a list of strings, and combines them into one string using the\n",
    "string provided. Then we just print that string."
   ]
  },
  {
   "cell_type": "markdown",
   "metadata": {
    "nbpresent": {
     "id": "5438e79a-1925-4bb6-ac97-069bb89d98f1"
    },
    "slideshow": {
     "slide_type": "fragment"
    }
   },
   "source": [
    " \n",
    "We would invoke it like this:\n",
    "```\n",
    "$ python Ex1.py badfile.txt\n",
    "\n",
    "$ python Ex1.py badfile.txt > fixedfile.txt\n",
    "```"
   ]
  },
  {
   "cell_type": "markdown",
   "metadata": {
    "nbpresent": {
     "id": "cfab7eb8-e915-4da8-881f-18c7030d53d9"
    },
    "slideshow": {
     "slide_type": "slide"
    }
   },
   "source": [
    "## Example 2: directory walk with file ops\n",
    "\n",
    "Imagine you have a directory tree with many subdirectories.\n",
    "\n",
    "In those directories are files named *.fastq.  You want to:\n",
    "\n",
    "- find them\n",
    "- compress them to fastq.gz using a program\n",
    "- delete them if the conversion was successful\n",
    "\n",
    "In this example, we'll demonstrate:\n",
    "\n",
    "- traversing an entire directory tree\n",
    "- executing a program on files in that tree\n",
    "- testing for successful program execution\n",
    "\n"
   ]
  },
  {
   "cell_type": "markdown",
   "metadata": {
    "nbpresent": {
     "id": "814659d4-6d87-41ab-a8da-4a89a73eb682"
    },
    "slideshow": {
     "slide_type": "slide"
    }
   },
   "source": [
    " ## In psuedocode\n",
    "```    \n",
    "for each directory\n",
    "   get a list of files in that directory\n",
    "   for each file in that directory\n",
    "     if that file's name ends with .fastq\n",
    "       create a new file name with .gz added\n",
    "       create a command to do the compression\n",
    "       run that command and check for success\n",
    "       if success\n",
    "         delete the original\n",
    "       else\n",
    "         stop\n",
    "```\n",
    "The conversion command is: \n",
    "```gzip -c file.fastq > file.fastq.gz```\n"
   ]
  },
  {
   "cell_type": "markdown",
   "metadata": {
    "nbpresent": {
     "id": "0be403ec-10ea-4f29-994a-7ca8dd6c4ea8"
    },
    "slideshow": {
     "slide_type": "slide"
    }
   },
   "source": [
    "## Step 1: directory traversal\n",
    "\n",
    "We need a way to traverse all the files and directories.\n",
    "```os.walk(dir)``` starts at dir and visits every subdirectory below it.\n",
    "It returns a list of files and subdirectories at each subdirectory.\n",
    "\n",
    "For example, imagine we have the following dirs and files:\n",
    "\n",
    "```\n",
    "Ex2dir\n",
    "Ex2dir/d1\n",
    "Ex2dir/d1/d2\n",
    "Ex2dir/d1/d2/f2.fastq\n",
    "Ex2dir/d1/f1.fastq\n",
    "```\n",
    "\n"
   ]
  },
  {
   "cell_type": "code",
   "execution_count": 28,
   "metadata": {
    "nbpresent": {
     "id": "506ef877-d76b-445c-af55-870d87f0d6e5"
    },
    "slideshow": {
     "slide_type": "fragment"
    }
   },
   "outputs": [
    {
     "name": "stdout",
     "output_type": "stream",
     "text": [
      "Ex2dir ['d1'] []\n",
      "Ex2dir\\d1 ['d2'] ['f1.fastq']\n",
      "Ex2dir\\d1\\d2 [] ['f2.fastq']\n"
     ]
    }
   ],
   "source": [
    "import os\n",
    "for path, dirs, files in os.walk('Ex2dir'):\n",
    "   print(path, dirs, files)"
   ]
  },
  {
   "cell_type": "markdown",
   "metadata": {
    "nbpresent": {
     "id": "34aeed1f-91e0-425e-94bd-a4d031956de2"
    },
    "slideshow": {
     "slide_type": "slide"
    }
   },
   "source": [
    "## Step 2: Invoking other programs from python\n",
    "\n",
    "The [subprocess module](https://docs.python.org/3/library/subprocess.html) has a variety of ways to do this. A simple one:\n",
    "\n",
    "```\n",
    "import subprocess\n",
    "\n",
    "ret=subprocess.call(cmd, shell=True)\n",
    "\n",
    "```\n",
    "\n",
    "ret is 0 on success, non-zero error code on failure.\n",
    "\n"
   ]
  },
  {
   "cell_type": "code",
   "execution_count": 29,
   "metadata": {
    "nbpresent": {
     "id": "1a02756f-a031-4887-a1ae-e07fc72ea137"
    },
    "slideshow": {
     "slide_type": "fragment"
    }
   },
   "outputs": [
    {
     "data": {
      "text/plain": [
       "0"
      ]
     },
     "execution_count": 29,
     "metadata": {},
     "output_type": "execute_result"
    }
   ],
   "source": [
    "import subprocess\n",
    "ret_code = subprocess.call('gzip -c myfile.fastq > myfile.fastq.gz', shell=True)\n",
    "ret_code"
   ]
  },
  {
   "cell_type": "markdown",
   "metadata": {
    "nbpresent": {
     "id": "d65d542b-e74e-477a-bd04-21a2e9d39e8c"
    },
    "slideshow": {
     "slide_type": "slide"
    }
   },
   "source": [
    "## Put it all together"
   ]
  },
  {
   "cell_type": "code",
   "execution_count": 30,
   "metadata": {
    "nbpresent": {
     "id": "3bdbdc71-a376-4eb1-b1ab-0d28a818f904"
    },
    "slideshow": {
     "slide_type": "fragment"
    }
   },
   "outputs": [
    {
     "ename": "NameError",
     "evalue": "name 'fn' is not defined",
     "output_type": "error",
     "traceback": [
      "\u001b[1;31m---------------------------------------------------------------------------\u001b[0m",
      "\u001b[1;31mNameError\u001b[0m                                 Traceback (most recent call last)",
      "\u001b[1;32m<ipython-input-30-6baaa1273b75>\u001b[0m in \u001b[0;36m<module>\u001b[1;34m\u001b[0m\n\u001b[0;32m     11\u001b[0m             \u001b[0mfile_name\u001b[0m \u001b[1;33m=\u001b[0m \u001b[1;34mf'{path}/{file}'\u001b[0m\u001b[1;33m\u001b[0m\u001b[1;33m\u001b[0m\u001b[0m\n\u001b[0;32m     12\u001b[0m             \u001b[0mcmpress_file\u001b[0m \u001b[1;33m=\u001b[0m \u001b[0mfile_name\u001b[0m\u001b[1;33m.\u001b[0m\u001b[0mreplace\u001b[0m\u001b[1;33m(\u001b[0m\u001b[1;34m'.fastq'\u001b[0m\u001b[1;33m,\u001b[0m \u001b[1;34m'.fastq.gz'\u001b[0m\u001b[1;33m)\u001b[0m\u001b[1;33m\u001b[0m\u001b[1;33m\u001b[0m\u001b[0m\n\u001b[1;32m---> 13\u001b[1;33m             \u001b[0mcmd\u001b[0m \u001b[1;33m=\u001b[0m \u001b[1;34mf'gzip -c {fn} > {cmpress_file}'\u001b[0m\u001b[1;33m\u001b[0m\u001b[1;33m\u001b[0m\u001b[0m\n\u001b[0m\u001b[0;32m     14\u001b[0m             \u001b[0mprint\u001b[0m\u001b[1;33m(\u001b[0m\u001b[1;34m\"running\"\u001b[0m\u001b[1;33m,\u001b[0m \u001b[0mcmd\u001b[0m\u001b[1;33m)\u001b[0m\u001b[1;33m\u001b[0m\u001b[1;33m\u001b[0m\u001b[0m\n\u001b[0;32m     15\u001b[0m             \u001b[0mret_code\u001b[0m \u001b[1;33m=\u001b[0m \u001b[0msubprocess\u001b[0m\u001b[1;33m.\u001b[0m\u001b[0mcall\u001b[0m\u001b[1;33m(\u001b[0m\u001b[0mcmd\u001b[0m\u001b[1;33m,\u001b[0m \u001b[0mshell\u001b[0m\u001b[1;33m=\u001b[0m\u001b[1;32mTrue\u001b[0m\u001b[1;33m)\u001b[0m\u001b[1;33m\u001b[0m\u001b[1;33m\u001b[0m\u001b[0m\n",
      "\u001b[1;31mNameError\u001b[0m: name 'fn' is not defined"
     ]
    }
   ],
   "source": [
    "import os\n",
    "import sys\n",
    "import subprocess\n",
    "\n",
    "sys.argv = ['dummy', 'Ex2dir'] # for Jupyter we'll cheat\n",
    "start = sys.argv[1]\n",
    "\n",
    "for path, subdirs, files in os.walk(start):\n",
    "    for file in files:\n",
    "        if file.endswith('.fastq'):\n",
    "            file_name = f'{path}/{file}'\n",
    "            cmpress_file = file_name.replace('.fastq', '.fastq.gz')\n",
    "            cmd = f'gzip -c {fn} > {cmpress_file}'\n",
    "            print(\"running\", cmd)\n",
    "            ret_code = subprocess.call(cmd, shell=True)\n",
    "            \n",
    "            if ret_code == 0:\n",
    "                if os.path.exists(cmpress_file):\n",
    "                    os.remove(file_name)\n",
    "            else:\n",
    "                print(\"Failed on \", file_name)\n",
    "                sys.exit(1)\n",
    "print(\"Done\")"
   ]
  },
  {
   "cell_type": "markdown",
   "metadata": {
    "nbpresent": {
     "id": "4b58e3b7-112a-4f65-b942-e2161e143d19"
    },
    "slideshow": {
     "slide_type": "fragment"
    }
   },
   "source": [
    "\n",
    "We would invoke it like this:\n",
    "```\n",
    "$ python Ex2.py Ex2dir\n",
    "```\n"
   ]
  },
  {
   "cell_type": "markdown",
   "metadata": {
    "nbpresent": {
     "id": "8f579d6b-c04b-4b17-87c7-4c4b58ead239"
    },
    "slideshow": {
     "slide_type": "slide"
    }
   },
   "source": [
    "## Example 3: Nested Dictionaries\n",
    "\n",
    "Dictionaries associate names with data, and allow quick retrieval by name.\n",
    "\n",
    "By nesting dictionaries, powerful lookups are fast and easy.\n",
    "\n",
    "In this example, we'll:\n",
    "- create a dict containing objects\n",
    "- load the objects with search data\n",
    "- use the dict to retrieve the appropriate object for a search\n",
    "- perform the search\n",
    "\n"
   ]
  },
  {
   "cell_type": "markdown",
   "metadata": {
    "nbpresent": {
     "id": "bbe27243-669f-4da2-84c0-ac0226bcf0bc"
    },
    "slideshow": {
     "slide_type": "slide"
    }
   },
   "source": [
    "\n",
    "genes.txt describes the locations of genes:\n",
    "\n",
    "(name, chrom, strand, start, end)\n",
    "\n",
    "```\n",
    "uc001aaa.3      chr1    +       11873   14409 \n",
    "uc010nxr.1      chr1    +       11873   14409 \n",
    "uc010nxq.1      chr1    +       11873   14409  \n",
    "uc009vis.3      chr1    -       14361   16765  \n",
    "uc009vit.3      chr1    -       14361   19759  \n",
    "...\n",
    "```"
   ]
  },
  {
   "cell_type": "markdown",
   "metadata": {
    "collapsed": true,
    "nbpresent": {
     "id": "59a6a2fa-0c16-41bd-82b9-7d79e0371db1"
    },
    "slideshow": {
     "slide_type": "fragment"
    }
   },
   "source": [
    "\n",
    "mappedreads.txt describes mapped dna sequences\n",
    "\n",
    "(name, chrom, position, sequence)\n",
    "\n",
    "```\n",
    "seq1 chr1  674540   ATCTGTGCAGAGGAGAACGCAGCTCCGCCCTCGCGGT\n",
    "seq2 chr19 575000   AGAGGAGAACGCAGCTCCGCCCTCGCGGTGCTCTCCG\n",
    "seq3 chr5  441682   TCTGCATCTGCTCTGGTGTCTTCTGCCATATCACTGC\n",
    "...\n",
    "```"
   ]
  },
  {
   "cell_type": "markdown",
   "metadata": {
    "nbpresent": {
     "id": "b4d9919d-acf4-4662-bb5b-bd6c170f255f"
    },
    "slideshow": {
     "slide_type": "slide"
    }
   },
   "source": [
    "We'd like to be able to quickly determine the genes overlapped by a dna sequence.\n",
    "\n",
    "First, we need a simple way to determine if two intervals overlap.  \n",
    "\n",
    "intervaltree is a python module that makes that easy."
   ]
  },
  {
   "cell_type": "code",
   "execution_count": 32,
   "metadata": {
    "nbpresent": {
     "id": "d9bf9eab-fbbf-4385-9ccf-a9b854a44638"
    },
    "slideshow": {
     "slide_type": "fragment"
    }
   },
   "outputs": [
    {
     "ename": "ModuleNotFoundError",
     "evalue": "No module named 'intervaltree'",
     "output_type": "error",
     "traceback": [
      "\u001b[1;31m---------------------------------------------------------------------------\u001b[0m",
      "\u001b[1;31mModuleNotFoundError\u001b[0m                       Traceback (most recent call last)",
      "\u001b[1;32m<ipython-input-32-27a5b2e40e91>\u001b[0m in \u001b[0;36m<module>\u001b[1;34m\u001b[0m\n\u001b[1;32m----> 1\u001b[1;33m \u001b[1;32mfrom\u001b[0m \u001b[0mintervaltree\u001b[0m \u001b[1;32mimport\u001b[0m \u001b[0mIntervalTree\u001b[0m\u001b[1;33m\u001b[0m\u001b[1;33m\u001b[0m\u001b[0m\n\u001b[0m\u001b[0;32m      2\u001b[0m \u001b[0mit\u001b[0m \u001b[1;33m=\u001b[0m \u001b[0mIntervalTree\u001b[0m\u001b[1;33m(\u001b[0m\u001b[1;33m)\u001b[0m\u001b[1;33m\u001b[0m\u001b[1;33m\u001b[0m\u001b[0m\n\u001b[0;32m      3\u001b[0m \u001b[0mit\u001b[0m\u001b[1;33m[\u001b[0m\u001b[1;36m4\u001b[0m\u001b[1;33m:\u001b[0m\u001b[1;36m7\u001b[0m\u001b[1;33m]\u001b[0m \u001b[1;33m=\u001b[0m \u001b[1;34m'gene1'\u001b[0m\u001b[1;33m\u001b[0m\u001b[1;33m\u001b[0m\u001b[0m\n\u001b[0;32m      4\u001b[0m \u001b[0mit\u001b[0m\u001b[1;33m[\u001b[0m\u001b[1;36m5\u001b[0m\u001b[1;33m:\u001b[0m\u001b[1;36m10\u001b[0m\u001b[1;33m]\u001b[0m \u001b[1;33m=\u001b[0m \u001b[1;34m'gene2'\u001b[0m\u001b[1;33m\u001b[0m\u001b[1;33m\u001b[0m\u001b[0m\n\u001b[0;32m      5\u001b[0m \u001b[0mit\u001b[0m\u001b[1;33m[\u001b[0m\u001b[1;36m1\u001b[0m\u001b[1;33m:\u001b[0m\u001b[1;36m11\u001b[0m\u001b[1;33m]\u001b[0m \u001b[1;33m=\u001b[0m \u001b[1;34m'gene3'\u001b[0m\u001b[1;33m\u001b[0m\u001b[1;33m\u001b[0m\u001b[0m\n",
      "\u001b[1;31mModuleNotFoundError\u001b[0m: No module named 'intervaltree'"
     ]
    }
   ],
   "source": [
    "from intervaltree import IntervalTree\n",
    "it = IntervalTree()\n",
    "it[4:7] = 'gene1'\n",
    "it[5:10] = 'gene2'\n",
    "it[1:11] = 'gene3'\n",
    "it"
   ]
  },
  {
   "cell_type": "code",
   "execution_count": 33,
   "metadata": {
    "nbpresent": {
     "id": "1b4c4b15-ab2d-49a0-9d2d-e684a340d0b2"
    },
    "slideshow": {
     "slide_type": "fragment"
    }
   },
   "outputs": [
    {
     "ename": "NameError",
     "evalue": "name 'it' is not defined",
     "output_type": "error",
     "traceback": [
      "\u001b[1;31m---------------------------------------------------------------------------\u001b[0m",
      "\u001b[1;31mNameError\u001b[0m                                 Traceback (most recent call last)",
      "\u001b[1;32m<ipython-input-33-d441adfffa74>\u001b[0m in \u001b[0;36m<module>\u001b[1;34m\u001b[0m\n\u001b[1;32m----> 1\u001b[1;33m \u001b[0mit\u001b[0m\u001b[1;33m[\u001b[0m\u001b[1;36m1\u001b[0m\u001b[1;33m:\u001b[0m\u001b[1;36m5\u001b[0m\u001b[1;33m]\u001b[0m\u001b[1;33m\u001b[0m\u001b[1;33m\u001b[0m\u001b[0m\n\u001b[0m",
      "\u001b[1;31mNameError\u001b[0m: name 'it' is not defined"
     ]
    }
   ],
   "source": [
    "it[1:5]"
   ]
  },
  {
   "cell_type": "markdown",
   "metadata": {
    "nbpresent": {
     "id": "15ffcb66-d804-42f4-8864-59a8cb3154f7"
    },
    "slideshow": {
     "slide_type": "slide"
    }
   },
   "source": [
    "## General plan\n",
    "\n",
    "- use interval trees, one for each chromosome\n",
    "- organize the trees in a dictionary by chromosome\n",
    "- store an interval for each gene the tree for it's chromosome\n",
    "\n",
    "```\n",
    "{'chr1': IntervalTree([Interval(1000, 1100, 'GeneA'), \n",
    "                       Interval(2000, 2100, 'GeneB'), ...\n",
    " 'chr2': IntervalTree([Interval(4000, 5100, 'GeneC'), \n",
    "                       Interval(7000, 8100, 'GeneD'), ...\n",
    " 'chr3':\n",
    " ...\n",
    "```"
   ]
  },
  {
   "cell_type": "markdown",
   "metadata": {
    "nbpresent": {
     "id": "250a9cd0-3744-4d27-a902-d211a387afb2"
    },
    "slideshow": {
     "slide_type": "slide"
    }
   },
   "source": [
    " # In psuedocode\n",
    " ### setup the lookup table\n",
    " ```\n",
    " create empty dict\n",
    " open the gene file\n",
    " for each line in the file\n",
    "    get gene name, chrom, start, end\n",
    "    initialize an intervaltree for the chrom, if needed, and add to dict\n",
    "    add the interval and gene name to the interval tree\n",
    "```"
   ]
  },
  {
   "cell_type": "code",
   "execution_count": 34,
   "metadata": {
    "nbpresent": {
     "id": "efbf1716-a4cc-4be3-af5a-a90170c6ee06"
    },
    "slideshow": {
     "slide_type": "slide"
    }
   },
   "outputs": [
    {
     "ename": "ModuleNotFoundError",
     "evalue": "No module named 'intervaltree'",
     "output_type": "error",
     "traceback": [
      "\u001b[1;31m---------------------------------------------------------------------------\u001b[0m",
      "\u001b[1;31mModuleNotFoundError\u001b[0m                       Traceback (most recent call last)",
      "\u001b[1;32m<ipython-input-34-ea4aaa81d48a>\u001b[0m in \u001b[0;36m<module>\u001b[1;34m\u001b[0m\n\u001b[0;32m      1\u001b[0m \u001b[1;32mimport\u001b[0m \u001b[0msys\u001b[0m\u001b[1;33m\u001b[0m\u001b[1;33m\u001b[0m\u001b[0m\n\u001b[1;32m----> 2\u001b[1;33m \u001b[1;32mfrom\u001b[0m \u001b[0mintervaltree\u001b[0m \u001b[1;32mimport\u001b[0m \u001b[0mIntervalTree\u001b[0m\u001b[1;33m\u001b[0m\u001b[1;33m\u001b[0m\u001b[0m\n\u001b[0m\u001b[0;32m      3\u001b[0m \u001b[1;33m\u001b[0m\u001b[0m\n\u001b[0;32m      4\u001b[0m \u001b[0mprint\u001b[0m\u001b[1;33m(\u001b[0m\u001b[1;34m\"initializing table\"\u001b[0m\u001b[1;33m)\u001b[0m\u001b[1;33m\u001b[0m\u001b[1;33m\u001b[0m\u001b[0m\n\u001b[0;32m      5\u001b[0m \u001b[0mtable\u001b[0m \u001b[1;33m=\u001b[0m \u001b[1;33m{\u001b[0m\u001b[1;33m}\u001b[0m\u001b[1;33m\u001b[0m\u001b[1;33m\u001b[0m\u001b[0m\n",
      "\u001b[1;31mModuleNotFoundError\u001b[0m: No module named 'intervaltree'"
     ]
    }
   ],
   "source": [
    "import sys\n",
    "from intervaltree import IntervalTree\n",
    "\n",
    "print(\"initializing table\")\n",
    "table = {}\n",
    "sys.argv = ['dummy', 'genes.txt', 'mappedreads.txt', 'results.txt'] # for Jupyter\n",
    "\n",
    "for line in open(sys.argv[1]):\n",
    "    genename, chrm, strand, start, end = line.split()\n",
    "    if not chrm in table:\n",
    "        table[chrm] = IntervalTree()\n",
    "    table[chrm][int(start):int(end)] = genename\n",
    "print(\"done\")\n"
   ]
  },
  {
   "cell_type": "code",
   "execution_count": 35,
   "metadata": {
    "nbpresent": {
     "id": "fc1e602a-2e38-4de8-b24c-6a879129b14e"
    },
    "slideshow": {
     "slide_type": "fragment"
    }
   },
   "outputs": [
    {
     "ename": "NameError",
     "evalue": "name 'table' is not defined",
     "output_type": "error",
     "traceback": [
      "\u001b[1;31m---------------------------------------------------------------------------\u001b[0m",
      "\u001b[1;31mNameError\u001b[0m                                 Traceback (most recent call last)",
      "\u001b[1;32m<ipython-input-35-0ae00d6e3d0f>\u001b[0m in \u001b[0;36m<module>\u001b[1;34m\u001b[0m\n\u001b[1;32m----> 1\u001b[1;33m \u001b[0mtable\u001b[0m\u001b[1;33m[\u001b[0m\u001b[1;34m'chr1'\u001b[0m\u001b[1;33m]\u001b[0m\u001b[1;33m[\u001b[0m\u001b[1;36m670000\u001b[0m\u001b[1;33m:\u001b[0m\u001b[1;36m680000\u001b[0m\u001b[1;33m]\u001b[0m\u001b[1;33m\u001b[0m\u001b[1;33m\u001b[0m\u001b[0m\n\u001b[0m",
      "\u001b[1;31mNameError\u001b[0m: name 'table' is not defined"
     ]
    }
   ],
   "source": [
    "table['chr1'][670000:680000]"
   ]
  },
  {
   "cell_type": "markdown",
   "metadata": {
    "nbpresent": {
     "id": "2e97e704-e457-46e0-9efa-387a21066fff"
    },
    "slideshow": {
     "slide_type": "slide"
    }
   },
   "source": [
    "## use the interval trees to find overlapped genes\n",
    "```\n",
    " open the dna sequence file\n",
    " for each line in the file:\n",
    "   get chrom, mapped position, and dna sequence\n",
    "   look up the interval tree for that chrom in the dict\n",
    "   search the interval tree for overlaps [pos, pos+len]\n",
    "   print out the gene names\n",
    " ```"
   ]
  },
  {
   "cell_type": "code",
   "execution_count": 37,
   "metadata": {
    "nbpresent": {
     "id": "bdd1c433-9194-4c66-9fe5-5fcba100cf2a"
    },
    "slideshow": {
     "slide_type": "fragment"
    }
   },
   "outputs": [
    {
     "name": "stdout",
     "output_type": "stream",
     "text": [
      "reading sequences\n"
     ]
    },
    {
     "ename": "IndexError",
     "evalue": "list index out of range",
     "output_type": "error",
     "traceback": [
      "\u001b[1;31m---------------------------------------------------------------------------\u001b[0m",
      "\u001b[1;31mIndexError\u001b[0m                                Traceback (most recent call last)",
      "\u001b[1;32m<ipython-input-37-bd02b9627dda>\u001b[0m in \u001b[0;36m<module>\u001b[1;34m\u001b[0m\n\u001b[0;32m      1\u001b[0m \u001b[0mprint\u001b[0m\u001b[1;33m(\u001b[0m\u001b[1;34m\"reading sequences\"\u001b[0m\u001b[1;33m)\u001b[0m\u001b[1;33m\u001b[0m\u001b[1;33m\u001b[0m\u001b[0m\n\u001b[0;32m      2\u001b[0m \u001b[1;33m\u001b[0m\u001b[0m\n\u001b[1;32m----> 3\u001b[1;33m \u001b[0moutfp\u001b[0m \u001b[1;33m=\u001b[0m \u001b[0mopen\u001b[0m\u001b[1;33m(\u001b[0m\u001b[0msys\u001b[0m\u001b[1;33m.\u001b[0m\u001b[0margv\u001b[0m\u001b[1;33m[\u001b[0m\u001b[1;36m3\u001b[0m\u001b[1;33m]\u001b[0m\u001b[1;33m,\u001b[0m \u001b[1;34m'w'\u001b[0m\u001b[1;33m)\u001b[0m\u001b[1;33m\u001b[0m\u001b[1;33m\u001b[0m\u001b[0m\n\u001b[0m\u001b[0;32m      4\u001b[0m \u001b[1;32mfor\u001b[0m \u001b[0mline\u001b[0m \u001b[1;32min\u001b[0m \u001b[0mopen\u001b[0m\u001b[1;33m(\u001b[0m\u001b[0msys\u001b[0m\u001b[1;33m.\u001b[0m\u001b[0margv\u001b[0m\u001b[1;33m[\u001b[0m\u001b[1;36m2\u001b[0m\u001b[1;33m]\u001b[0m\u001b[1;33m)\u001b[0m\u001b[1;33m:\u001b[0m\u001b[1;33m\u001b[0m\u001b[1;33m\u001b[0m\u001b[0m\n\u001b[0;32m      5\u001b[0m     \u001b[0mname\u001b[0m\u001b[1;33m,\u001b[0m \u001b[0mchrm\u001b[0m\u001b[1;33m,\u001b[0m \u001b[0mpos\u001b[0m\u001b[1;33m,\u001b[0m \u001b[0mseq\u001b[0m \u001b[1;33m=\u001b[0m \u001b[0mline\u001b[0m\u001b[1;33m.\u001b[0m\u001b[0mstrip\u001b[0m\u001b[1;33m(\u001b[0m\u001b[1;33m)\u001b[0m\u001b[1;33m.\u001b[0m\u001b[0msplit\u001b[0m\u001b[1;33m(\u001b[0m\u001b[1;33m)\u001b[0m\u001b[1;33m\u001b[0m\u001b[1;33m\u001b[0m\u001b[0m\n",
      "\u001b[1;31mIndexError\u001b[0m: list index out of range"
     ]
    }
   ],
   "source": [
    "print(\"reading sequences\")\n",
    "\n",
    "outfp = open(sys.argv[3], 'w')\n",
    "for line in open(sys.argv[2]):\n",
    "    name, chrm, pos, seq = line.strip().split()\n",
    "    genes=table[chrm][int(pos):int(pos) + len(seq)]\n",
    "    if genes:\n",
    "        print(\"\\t\".join([name, chrm, pos, seq]), file=outfp)\n",
    "        for gene in genes:\n",
    "            print (f'\\t{gene.data}', file=outfp)\n",
    "print(\"done\")"
   ]
  },
  {
   "cell_type": "markdown",
   "metadata": {
    "slideshow": {
     "slide_type": "slide"
    }
   },
   "source": [
    "## Example 4: Travelling salesman\n",
    "- Given N cities, find shortest route visiting each once\n",
    "- NP-complete -> very expensive to find optimal solution\n",
    "- We'll use a heuristic approach, simulated annealing:\n",
    "\n",
    "```\n",
    "T = initialT\n",
    "curr = best = initialsolution\n",
    "while T > stopT:\n",
    "    candidate = pick two cities, swap and reverse path between them\n",
    "    if cost(candidate) < cost(best):\n",
    "        curr=candidate\n",
    "        best=candidate\n",
    "    elif cost(candidate)-cost(best) < T\n",
    "        curr=candidate\n",
    "    T = T * alpha\n",
    "```"
   ]
  },
  {
   "cell_type": "code",
   "execution_count": 39,
   "metadata": {
    "slideshow": {
     "slide_type": "slide"
    }
   },
   "outputs": [],
   "source": [
    "import random\n",
    "\n",
    "def initial(n):\n",
    "    return [[random.randint(-1000,1000), random.randint(-1000,1000)] for i in range(n)]  # nested list\n"
   ]
  },
  {
   "cell_type": "code",
   "execution_count": 40,
   "metadata": {
    "slideshow": {
     "slide_type": "fragment"
    }
   },
   "outputs": [
    {
     "data": {
      "text/plain": [
       "[[284, -809],\n",
       " [257, -143],\n",
       " [-443, -732],\n",
       " [368, 313],\n",
       " [275, 308],\n",
       " [586, -825],\n",
       " [-254, 4],\n",
       " [-221, 777],\n",
       " [153, 301],\n",
       " [-67, -450]]"
      ]
     },
     "execution_count": 40,
     "metadata": {},
     "output_type": "execute_result"
    }
   ],
   "source": [
    "initial(10)"
   ]
  },
  {
   "cell_type": "code",
   "execution_count": 41,
   "metadata": {
    "slideshow": {
     "slide_type": "slide"
    }
   },
   "outputs": [],
   "source": [
    "import matplotlib.pyplot as plt\n",
    "\n",
    "def plot(path):\n",
    "    xs = []\n",
    "    ys = []\n",
    "    \n",
    "    for x,y in path:\n",
    "        xs.append(x)\n",
    "        ys.append(y)\n",
    "        \n",
    "    plt.plot(xs, ys, 'co-')\n",
    "    plt.show()"
   ]
  },
  {
   "cell_type": "code",
   "execution_count": 42,
   "metadata": {
    "slideshow": {
     "slide_type": "slide"
    }
   },
   "outputs": [
    {
     "data": {
      "image/png": "[encoded data removed]",
      "text/plain": [
       "<Figure size 432x288 with 1 Axes>"
      ]
     },
     "metadata": {
      "needs_background": "light"
     },
     "output_type": "display_data"
    }
   ],
   "source": [
    "cities = initial(100)\n",
    "plot(cities)"
   ]
  },
  {
   "cell_type": "code",
   "execution_count": 44,
   "metadata": {
    "slideshow": {
     "slide_type": "slide"
    }
   },
   "outputs": [
    {
     "data": {
      "text/plain": [
       "107812.78120310494"
      ]
     },
     "execution_count": 44,
     "metadata": {},
     "output_type": "execute_result"
    }
   ],
   "source": [
    "import math\n",
    "\n",
    "def dist(a,b):\n",
    "    return math.sqrt((a[0] - b[0]) ** 2 + (a[1] - b[1]) ** 2)\n",
    "\n",
    "def cost(curr):\n",
    "    total = 0\n",
    "    n = len(curr)\n",
    "    for i in range(n):\n",
    "        total += dist(curr[i], curr[(i + 1) % n])\n",
    "    return total\n",
    "\n",
    "cost(cities)"
   ]
  },
  {
   "cell_type": "code",
   "execution_count": 46,
   "metadata": {
    "slideshow": {
     "slide_type": "slide"
    }
   },
   "outputs": [],
   "source": [
    "def doswap(curr):\n",
    "    cand = curr[:]\n",
    "    n = len(cand)\n",
    "    i, j = sorted(random.sample(range(n), 2))\n",
    "    cand[i:j + 1] = reversed(cand[i:j + 1])\n",
    "    return cand"
   ]
  },
  {
   "cell_type": "code",
   "execution_count": 47,
   "metadata": {
    "slideshow": {
     "slide_type": "fragment"
    }
   },
   "outputs": [
    {
     "name": "stdout",
     "output_type": "stream",
     "text": [
      "[[437, -588], [-777, 720], [992, -967], [-132, -470], [783, 346]]\n",
      "[[437, -588], [783, 346], [-132, -470], [992, -967], [-777, 720]]\n"
     ]
    }
   ],
   "source": [
    "curr=initial(5)\n",
    "cand=doswap(curr)\n",
    "print(curr)\n",
    "print(cand)"
   ]
  },
  {
   "cell_type": "code",
   "execution_count": 48,
   "metadata": {
    "slideshow": {
     "slide_type": "slide"
    }
   },
   "outputs": [
    {
     "data": {
      "text/plain": [
       "0.1353352832366127"
      ]
     },
     "execution_count": 48,
     "metadata": {},
     "output_type": "execute_result"
    }
   ],
   "source": [
    "def p_accept(candcost, currcost, T):\n",
    "    p = math.exp(-abs(candcost - currcost) / T)\n",
    "    return p\n",
    "\n",
    "p_accept(20010,20000,5)"
   ]
  },
  {
   "cell_type": "code",
   "execution_count": 50,
   "metadata": {
    "slideshow": {
     "slide_type": "slide"
    }
   },
   "outputs": [],
   "source": [
    "def main(n):\n",
    "    random.seed(0)  # set a pseudorandom seed!\n",
    "    curr = initial(n)\n",
    "    plot(curr)\n",
    "    currcost = cost(curr)\n",
    "    T = math.sqrt(n)\n",
    "    while T > 1e-10:\n",
    "        cand = doswap(curr)\n",
    "        candcost = cost(cand)\n",
    "        if candcost < currcost:\n",
    "            curr = cand\n",
    "            currcost = candcost\n",
    "            print(\"forward T %f cost %f\" % (T, currcost))\n",
    "        elif p_accept(candcost, currcost, T) > random.random():\n",
    "            curr = cand\n",
    "            currcost = candcost\n",
    "            print(\"backward T %f cost %f\" % (T, currcost))\n",
    "        T= T * 0.999\n",
    "    plot(curr)"
   ]
  },
  {
   "cell_type": "code",
   "execution_count": 51,
   "metadata": {
    "slideshow": {
     "slide_type": "slide"
    }
   },
   "outputs": [
    {
     "data": {
      "image/png": "[encoded data removed]",
      "text/plain": [
       "<Figure size 432x288 with 1 Axes>"
      ]
     },
     "metadata": {
      "needs_background": "light"
     },
     "output_type": "display_data"
    },
    {
     "name": "stdout",
     "output_type": "stream",
     "text": [
      "forward T 10.000000 cost 102169.512128\n",
      "forward T 9.940150 cost 102168.566683\n",
      "forward T 9.930210 cost 102057.152297\n",
      "forward T 9.860906 cost 101373.657546\n",
      "forward T 9.851045 cost 98691.768946\n",
      "forward T 9.821522 cost 98562.010278\n",
      "forward T 9.811700 cost 98457.355162\n",
      "forward T 9.801889 cost 97604.097167\n",
      "forward T 9.772512 cost 97010.020256\n",
      "forward T 9.743224 cost 96299.057424\n",
      "forward T 9.733481 cost 95919.597211\n",
      "forward T 9.704310 cost 95395.751340\n",
      "forward T 9.694605 cost 95254.904994\n",
      "backward T 9.675226 cost 95255.871501\n",
      "forward T 9.655885 cost 94969.869811\n",
      "forward T 9.646229 cost 94430.132755\n",
      "forward T 9.636583 cost 94321.642072\n",
      "forward T 9.607702 cost 92201.071154\n",
      "forward T 9.588496 cost 91969.302095\n",
      "forward T 9.578908 cost 91035.423906\n",
      "forward T 9.550200 cost 90256.382892\n",
      "forward T 9.531109 cost 88349.341046\n",
      "forward T 9.445671 cost 87635.129809\n",
      "forward T 9.436226 cost 86278.138947\n",
      "forward T 9.398537 cost 86060.893929\n",
      "forward T 9.389139 cost 85996.619600\n",
      "forward T 9.323612 cost 84738.402994\n",
      "forward T 9.295669 cost 84062.807178\n",
      "forward T 9.277087 cost 83381.061309\n",
      "forward T 9.249283 cost 82822.352200\n",
      "forward T 9.203129 cost 82343.926747\n",
      "forward T 9.193926 cost 81444.852932\n",
      "forward T 9.157206 cost 80390.106300\n",
      "forward T 9.148048 cost 80374.775772\n",
      "forward T 9.120632 cost 79927.087244\n",
      "forward T 9.102400 cost 79507.964685\n",
      "forward T 9.093297 cost 77923.357943\n",
      "forward T 9.084204 cost 76758.040096\n",
      "forward T 9.066044 cost 76485.451678\n",
      "forward T 8.966815 cost 76240.765101\n",
      "forward T 8.904235 cost 76108.490098\n",
      "forward T 8.895331 cost 76019.777616\n",
      "forward T 8.868672 cost 75919.714960\n",
      "forward T 8.824417 cost 75631.687787\n",
      "forward T 8.815593 cost 75588.675870\n",
      "forward T 8.789172 cost 75588.453251\n",
      "forward T 8.727832 cost 75357.321883\n",
      "forward T 8.719105 cost 75126.672256\n",
      "forward T 8.710385 cost 73398.010510\n",
      "forward T 8.684280 cost 73015.628643\n",
      "forward T 8.632305 cost 73008.415986\n",
      "forward T 8.589230 cost 71994.570395\n",
      "forward T 8.461289 cost 71881.691678\n",
      "forward T 8.444375 cost 71391.882633\n",
      "forward T 8.435931 cost 70775.110408\n",
      "forward T 8.377056 cost 70435.094647\n",
      "forward T 8.360310 cost 69845.780233\n",
      "forward T 8.335254 cost 69170.215364\n",
      "forward T 8.326919 cost 68953.165285\n",
      "forward T 8.318592 cost 67977.537830\n",
      "forward T 8.310274 cost 67300.864446\n",
      "forward T 8.113104 cost 67067.056553\n",
      "forward T 8.088789 cost 66856.091975\n",
      "forward T 8.072619 cost 66498.051399\n",
      "forward T 8.064547 cost 64998.674576\n",
      "forward T 8.000256 cost 64868.394591\n",
      "forward T 7.944422 cost 64622.227409\n",
      "forward T 7.928541 cost 64001.226351\n",
      "forward T 7.896874 cost 63639.475361\n",
      "forward T 7.873207 cost 63597.640301\n",
      "forward T 7.849611 cost 62786.776902\n",
      "forward T 7.841762 cost 62114.547407\n",
      "forward T 7.787034 cost 61574.475505\n",
      "forward T 7.732688 cost 61023.260061\n",
      "forward T 7.724955 cost 60064.859428\n",
      "forward T 7.701803 cost 59798.640651\n",
      "forward T 7.678721 cost 59791.573028\n",
      "forward T 7.655708 cost 58986.234768\n",
      "forward T 7.594676 cost 58898.309129\n",
      "forward T 7.587082 cost 58571.162342\n",
      "forward T 7.504040 cost 58263.808656\n",
      "backward T 7.474068 cost 58269.049235\n",
      "forward T 7.414485 cost 57798.099191\n",
      "forward T 7.348021 cost 57745.747182\n",
      "forward T 7.340673 cost 57544.120807\n",
      "forward T 7.311354 cost 57264.645868\n",
      "backward T 7.267595 cost 57266.651243\n",
      "forward T 7.231330 cost 57053.828964\n",
      "forward T 7.152182 cost 57051.426125\n",
      "forward T 7.095164 cost 56706.654563\n",
      "forward T 7.038601 cost 56609.917622\n",
      "forward T 7.017507 cost 56583.895980\n",
      "forward T 7.010489 cost 56421.772075\n",
      "forward T 7.003479 cost 56387.356340\n",
      "forward T 6.996475 cost 54365.885267\n",
      "forward T 6.954601 cost 54016.849494\n",
      "forward T 6.912978 cost 53966.382593\n",
      "forward T 6.803196 cost 53518.746226\n",
      "forward T 6.735469 cost 53325.076583\n",
      "forward T 6.722005 cost 53195.320794\n",
      "forward T 6.688462 cost 52990.958572\n",
      "forward T 6.681774 cost 52981.561346\n",
      "forward T 6.668417 cost 52816.504632\n",
      "forward T 6.549400 cost 52758.010177\n",
      "forward T 6.529772 cost 52395.486123\n",
      "forward T 6.523242 cost 51753.265677\n",
      "forward T 6.516718 cost 51750.554369\n",
      "forward T 6.503692 cost 51078.167933\n",
      "forward T 6.419649 cost 50910.617903\n",
      "forward T 6.343036 cost 50905.115623\n",
      "forward T 6.100300 cost 50690.211621\n",
      "forward T 6.051668 cost 50590.428119\n",
      "forward T 6.009433 cost 50256.132443\n",
      "forward T 5.931778 cost 49897.359501\n",
      "forward T 5.908086 cost 49494.214439\n",
      "forward T 5.884489 cost 49314.814880\n",
      "forward T 5.802640 cost 49297.359823\n",
      "forward T 5.779464 cost 49250.618011\n",
      "forward T 5.727656 cost 48293.742233\n",
      "forward T 5.716207 cost 47922.656896\n",
      "forward T 5.614185 cost 47661.490256\n",
      "forward T 5.597359 cost 47516.597143\n",
      "forward T 5.552737 cost 47323.522590\n",
      "forward T 5.547184 cost 46926.168629\n",
      "forward T 5.426419 cost 46857.318372\n",
      "forward T 5.420992 cost 46837.596823\n",
      "forward T 5.329569 cost 46611.302691\n",
      "forward T 5.260699 cost 46579.453523\n",
      "forward T 5.229213 cost 46541.708968\n",
      "forward T 5.177156 cost 46449.659054\n",
      "forward T 5.084755 cost 45901.741971\n",
      "forward T 5.079670 cost 45555.058689\n",
      "forward T 4.994003 cost 44859.624301\n",
      "forward T 4.984020 cost 44556.265448\n",
      "forward T 4.979036 cost 44401.392577\n",
      "forward T 4.959150 cost 43799.475630\n",
      "forward T 4.949237 cost 43758.271719\n",
      "forward T 4.929469 cost 43753.741458\n",
      "forward T 4.764604 cost 43575.557836\n",
      "forward T 4.745574 cost 43212.129300\n",
      "forward T 4.614476 cost 43185.193359\n",
      "forward T 4.582271 cost 42868.357967\n",
      "forward T 4.464610 cost 42850.410677\n",
      "forward T 4.310976 cost 42657.055629\n",
      "forward T 4.280889 cost 42657.041752\n",
      "forward T 4.217124 cost 42169.151142\n",
      "forward T 4.204485 cost 42158.178962\n",
      "forward T 4.183505 cost 42021.523248\n",
      "forward T 4.154308 cost 41942.796260\n",
      "forward T 4.129444 cost 41463.157464\n",
      "forward T 4.063866 cost 41455.192193\n",
      "forward T 4.039544 cost 41031.018338\n",
      "forward T 3.983356 cost 40992.403329\n",
      "forward T 3.979373 cost 40952.304472\n",
      "forward T 3.935818 cost 40892.557869\n",
      "forward T 3.912262 cost 39751.288344\n",
      "forward T 3.815620 cost 39622.677168\n",
      "forward T 3.811805 cost 39473.223572\n",
      "forward T 3.636709 cost 39410.517845\n",
      "forward T 3.604110 cost 39386.541512\n",
      "forward T 3.515080 cost 39315.225368\n",
      "forward T 3.459258 cost 38463.923620\n",
      "forward T 3.445442 cost 38277.004786\n",
      "forward T 3.300357 cost 38138.471165\n",
      "forward T 3.287176 cost 38107.583267\n",
      "backward T 3.247946 cost 38111.899904\n",
      "forward T 3.234973 cost 38000.293671\n",
      "forward T 3.228507 cost 37848.011903\n",
      "forward T 3.218831 cost 37846.949537\n",
      "forward T 3.139318 cost 37803.751159\n",
      "forward T 3.092557 cost 37655.921009\n",
      "forward T 3.077125 cost 37635.779506\n",
      "forward T 3.058708 cost 37601.371562\n",
      "forward T 3.049541 cost 37514.462069\n",
      "forward T 2.998112 cost 37450.435504\n",
      "forward T 2.944602 cost 37403.012328\n",
      "forward T 2.707245 cost 37277.464070\n",
      "forward T 2.603644 cost 36747.827607\n",
      "forward T 2.585473 cost 36614.974430\n",
      "forward T 2.582888 cost 36430.979962\n",
      "forward T 2.474125 cost 36408.220398\n",
      "forward T 2.429967 cost 36387.135524\n",
      "forward T 2.400967 cost 35923.603231\n",
      "forward T 2.306778 cost 35557.451043\n",
      "forward T 2.281530 cost 34830.724956\n",
      "forward T 2.267875 cost 34740.454102\n",
      "forward T 2.245298 cost 34685.498337\n",
      "forward T 2.159374 cost 34590.285964\n",
      "forward T 2.125082 cost 34565.790680\n",
      "forward T 2.112364 cost 34565.790680\n",
      "forward T 2.054009 cost 34148.354092\n",
      "forward T 2.035597 cost 33617.782452\n",
      "forward T 2.025439 cost 33532.178934\n",
      "forward T 1.993274 cost 33514.922918\n",
      "forward T 1.991281 cost 33479.779520\n",
      "forward T 1.947930 cost 33319.327546\n",
      "forward T 1.945982 cost 33301.263962\n",
      "forward T 1.911250 cost 32823.544645\n",
      "forward T 1.869641 cost 32765.334790\n",
      "forward T 1.862174 cost 32668.988269\n",
      "forward T 1.838110 cost 31849.905396\n",
      "forward T 1.808920 cost 31780.063269\n",
      "forward T 1.764236 cost 31609.407165\n",
      "forward T 1.750171 cost 31448.849746\n",
      "forward T 1.646551 cost 31369.550211\n",
      "forward T 1.613931 cost 31359.847478\n",
      "forward T 1.594670 cost 31290.321956\n",
      "forward T 1.501759 cost 31058.059528\n",
      "forward T 1.495761 cost 30634.256750\n",
      "forward T 1.455896 cost 30324.108318\n",
      "forward T 1.400182 cost 29990.054892\n",
      "forward T 1.394589 cost 29122.522545\n",
      "forward T 1.393195 cost 28922.282316\n",
      "forward T 1.357421 cost 28919.730479\n",
      "forward T 1.318602 cost 28851.966406\n",
      "forward T 1.300261 cost 28847.884863\n",
      "forward T 1.268141 cost 28746.421074\n",
      "forward T 1.264341 cost 28630.816587\n",
      "forward T 1.260552 cost 28596.454977\n",
      "forward T 1.245508 cost 28560.742689\n",
      "forward T 1.231876 cost 28462.554197\n",
      "forward T 1.229413 cost 27904.302976\n",
      "forward T 1.197845 cost 27887.137916\n",
      "forward T 1.141679 cost 27815.166860\n",
      "forward T 1.116824 cost 27616.886387\n",
      "forward T 1.068726 cost 27615.262331\n",
      "backward T 1.058086 cost 27616.886387\n",
      "forward T 1.027827 cost 27553.886693\n",
      "forward T 1.007465 cost 27448.801714\n",
      "forward T 0.951618 cost 27413.941458\n",
      "forward T 0.926256 cost 27258.361936\n",
      "forward T 0.823935 cost 27129.590055\n",
      "forward T 0.798773 cost 26887.726806\n",
      "forward T 0.768205 cost 26741.991754\n",
      "forward T 0.761319 cost 26520.210588\n",
      "forward T 0.747731 cost 26456.521781\n",
      "forward T 0.736593 cost 26448.348900\n",
      "forward T 0.704870 cost 26175.617367\n",
      "forward T 0.704166 cost 26174.342757\n",
      "forward T 0.667131 cost 26006.592336\n",
      "forward T 0.660490 cost 25895.946130\n"
     ]
    },
    {
     "name": "stdout",
     "output_type": "stream",
     "text": [
      "forward T 0.548885 cost 25762.978140\n",
      "forward T 0.546146 cost 25573.700882\n",
      "forward T 0.463963 cost 25146.849926\n",
      "forward T 0.438683 cost 25098.266366\n",
      "forward T 0.413124 cost 25043.140728\n",
      "forward T 0.404130 cost 25042.453457\n",
      "forward T 0.383642 cost 25022.296325\n",
      "forward T 0.348857 cost 24902.482446\n",
      "forward T 0.344349 cost 24765.230514\n",
      "forward T 0.329519 cost 24742.795220\n",
      "forward T 0.287024 cost 24732.706744\n",
      "forward T 0.286163 cost 24724.597170\n",
      "forward T 0.280494 cost 24723.696077\n",
      "forward T 0.252270 cost 24518.293439\n",
      "forward T 0.248016 cost 24077.194715\n",
      "forward T 0.244811 cost 23976.551805\n",
      "forward T 0.242374 cost 23917.442451\n",
      "forward T 0.223730 cost 23820.261649\n",
      "forward T 0.216247 cost 23800.357281\n",
      "forward T 0.208180 cost 23477.261557\n",
      "forward T 0.206314 cost 23429.598064\n",
      "forward T 0.205490 cost 23415.505367\n",
      "forward T 0.174394 cost 23214.861105\n",
      "forward T 0.166716 cost 23116.054986\n",
      "forward T 0.164562 cost 22995.121924\n",
      "forward T 0.153124 cost 22922.594845\n",
      "forward T 0.149641 cost 22738.389002\n",
      "forward T 0.135530 cost 22723.688542\n",
      "forward T 0.133912 cost 22633.103789\n",
      "forward T 0.121527 cost 22627.995935\n",
      "forward T 0.120558 cost 22623.860545\n",
      "forward T 0.119717 cost 22581.284881\n",
      "forward T 0.119477 cost 22469.136666\n",
      "forward T 0.113761 cost 22467.156110\n",
      "forward T 0.111843 cost 22455.748454\n",
      "forward T 0.100488 cost 22455.748454\n",
      "forward T 0.077085 cost 22427.475478\n",
      "forward T 0.061793 cost 22385.039493\n",
      "forward T 0.059488 cost 22057.659693\n",
      "forward T 0.058661 cost 21980.929949\n",
      "forward T 0.057384 cost 21902.370875\n",
      "forward T 0.057326 cost 21472.660255\n",
      "forward T 0.056134 cost 21381.604604\n",
      "forward T 0.055243 cost 21198.976918\n",
      "forward T 0.053824 cost 21072.244240\n",
      "forward T 0.049883 cost 21071.529736\n",
      "forward T 0.039353 cost 20786.468257\n",
      "forward T 0.030430 cost 20626.579606\n",
      "forward T 0.022472 cost 20581.227958\n",
      "forward T 0.019535 cost 20571.268095\n",
      "forward T 0.018731 cost 20541.382959\n",
      "forward T 0.013410 cost 20415.839165\n",
      "backward T 0.011611 cost 20415.839165\n",
      "forward T 0.009993 cost 20406.645225\n",
      "forward T 0.009698 cost 20166.019497\n",
      "forward T 0.007536 cost 20166.019497\n",
      "forward T 0.006690 cost 20127.363748\n",
      "backward T 0.006023 cost 20127.363748\n",
      "forward T 0.005999 cost 20035.012792\n",
      "forward T 0.005428 cost 19848.401961\n",
      "forward T 0.005396 cost 19845.025672\n",
      "forward T 0.004426 cost 19778.562870\n",
      "forward T 0.004261 cost 19644.780690\n",
      "forward T 0.003844 cost 19372.479459\n",
      "backward T 0.002012 cost 19372.479459\n",
      "forward T 0.001605 cost 19347.142701\n",
      "forward T 0.001468 cost 19226.594585\n",
      "forward T 0.001405 cost 18951.611397\n",
      "backward T 0.001350 cost 18951.611397\n",
      "forward T 0.001092 cost 18931.467472\n",
      "forward T 0.001032 cost 18822.761541\n",
      "forward T 0.000380 cost 18822.761541\n",
      "forward T 0.000294 cost 18716.644483\n",
      "forward T 0.000269 cost 18712.273007\n",
      "forward T 0.000057 cost 18612.955871\n",
      "forward T 0.000040 cost 18456.114341\n",
      "forward T 0.000036 cost 17869.192046\n",
      "forward T 0.000026 cost 17807.972887\n",
      "forward T 0.000024 cost 17704.585108\n",
      "backward T 0.000009 cost 17704.585108\n",
      "forward T 0.000008 cost 17495.926722\n",
      "forward T 0.000003 cost 17495.926722\n",
      "forward T 0.000002 cost 17465.079613\n",
      "forward T 0.000002 cost 17406.990933\n",
      "forward T 0.000001 cost 17402.669278\n",
      "forward T 0.000000 cost 17394.939042\n",
      "forward T 0.000000 cost 17388.903500\n",
      "forward T 0.000000 cost 17356.128235\n",
      "forward T 0.000000 cost 17259.914101\n",
      "forward T 0.000000 cost 17207.588884\n",
      "backward T 0.000000 cost 17207.588884\n"
     ]
    },
    {
     "data": {
      "image/png": "[encoded data removed]",
      "text/plain": [
       "<Figure size 432x288 with 1 Axes>"
      ]
     },
     "metadata": {
      "needs_background": "light"
     },
     "output_type": "display_data"
    }
   ],
   "source": [
    "main(100)"
   ]
  },
  {
   "cell_type": "markdown",
   "metadata": {
    "nbpresent": {
     "id": "788cac40-7b07-4690-9aa9-5c7fe7c296c1"
    },
    "slideshow": {
     "slide_type": "slide"
    }
   },
   "source": [
    "## Important Packages \n",
    "- numpy: high performance arrays\n",
    "- scipy: stats, linear alg, etc.\n",
    "- multiprocessing: easy parallelism\n",
    "- matplotlib: plotting\n",
    "- pandas: stats with R-like dataframes\n",
    "- flask, web2py: web applications"
   ]
  },
  {
   "cell_type": "markdown",
   "metadata": {
    "nbpresent": {
     "id": "7598763d-f96e-475c-8824-10d1c42a120b"
    },
    "slideshow": {
     "slide_type": "slide"
    }
   },
   "source": [
    "## Python Resources we like\n",
    "\n",
    "- anaconda python: www.continuum.io\n",
    "- Jupyter notebook\n",
    "- pycharm debugger: www.jetbrains.com\n",
    "- _Introducing Python_, Bill Lubanovic, O'Reilly\n",
    "- _Python in a Nutshell_, Alex Martelli, O'Reilly\n",
    "- _Python Cookbook_, Alex Martelli, O'Reilly\n",
    "- Google's python class: https://www.youtube.com/watch?v=tKTZoB2Vjukxo\n",
    "- https://docs.python.org/3/tutorial\n",
    "- codecademy https://www.codecademy.com/learn/learn-python\n"
   ]
  }
 ],
 "metadata": {
  "anaconda-cloud": {},
  "celltoolbar": "Slideshow",
  "kernelspec": {
   "display_name": "Python 3",
   "language": "python",
   "name": "python3"
  },
  "language_info": {
   "codemirror_mode": {
    "name": "ipython",
    "version": 3
   },
   "file_extension": ".py",
   "mimetype": "text/x-python",
   "name": "python",
   "nbconvert_exporter": "python",
   "pygments_lexer": "ipython3",
   "version": "3.7.6"
  }
 },
 "nbformat": 4,
 "nbformat_minor": 1
}
